{
 "cells": [
  {
   "cell_type": "code",
   "execution_count": 4,
   "metadata": {},
   "outputs": [],
   "source": [
    "import numpy as np # linear algebra\n",
    "import pandas as pd # data processing, CSV file I/O (e.g. pd.read_csv)\n",
    "import os\n",
    "import matplotlib.pyplot as plt\n",
    "import seaborn as sns\n",
    "import networkx as nx\n",
    "import gc\n",
    "import math\n",
    "from tqdm.notebook import tqdm\n",
    "import matplotlib.pyplot as plt"
   ]
  },
  {
   "cell_type": "markdown",
   "metadata": {},
   "source": [
    "# Load Data"
   ]
  },
  {
   "cell_type": "code",
   "execution_count": 2,
   "metadata": {},
   "outputs": [],
   "source": [
    "#Load Data\n",
    "transactions = pd.read_csv(\"./transactions_train.csv\") # 50 Mil # 3,5 GB # 2018-2020\n",
    "articles = pd.read_csv(\"./articles.csv\") # \n",
    "customers = pd.read_csv(\"./customers.csv\")"
   ]
  },
  {
   "cell_type": "markdown",
   "metadata": {},
   "source": [
    "# Association Rule Mining"
   ]
  },
  {
   "cell_type": "markdown",
   "metadata": {},
   "source": [
    "## Preprocessing"
   ]
  },
  {
   "cell_type": "markdown",
   "metadata": {},
   "source": [
    "### Sampling"
   ]
  },
  {
   "cell_type": "code",
   "execution_count": 6,
   "metadata": {},
   "outputs": [
    {
     "name": "stdout",
     "output_type": "stream",
     "text": [
      "4387359\n"
     ]
    }
   ],
   "source": [
    "#Reduce dataset for better perfomance\n",
    "#First 3 months\n",
    "# trans_3_months = transactions[transactions['t_dat'] < '2018-12-31']\n",
    "# trans_3_months.sort_values(by='t_dat',ascending = False).head()\n",
    "# trans_3_months.count()\n",
    "# print(len(trans_3_months))\n",
    "\n",
    "trans_3_months = transactions[transactions['t_dat'].map(lambda x: x < '2018-12-31')]\n",
    "trans_3_months.sort_values(by='t_dat',ascending = False).head()\n",
    "print(len(trans_3_months))\n",
    "\n",
    "# Join Transactions and articles\n",
    "join_trans = pd.merge(trans_3_months,articles,on=\"article_id\", how=\"left\")\n",
    "# Clean table\n",
    "#result = join_trans.filter(['t_dat', 'customer_id','article_id', 'product_code', 'prod_name', 'product_type_no','product_type_name', 'product_group_name','garment_group_name','section_name','index_group_name'])\n"
   ]
  },
  {
   "cell_type": "markdown",
   "metadata": {},
   "source": [
    "### Making data ready for Mining algorithm"
   ]
  },
  {
   "cell_type": "markdown",
   "metadata": {},
   "source": [
    "##### Level- Article_ID "
   ]
  },
  {
   "cell_type": "code",
   "execution_count": 15,
   "metadata": {},
   "outputs": [],
   "source": [
    "# Process for product_group_name\n",
    "items_article = []\n",
    "items_trans = []\n",
    "items_trans.append(join_trans['article_id'][0])\n",
    "for i in range(len(join_trans)-1):\n",
    "    if (trans_3_months['t_dat'][i] == join_trans['t_dat'][i+1]) and (join_trans['customer_id'][i] == join_trans['customer_id'][i+1]):\n",
    "        items_trans.append(join_trans['article_id'][i+1])\n",
    "    else:\n",
    "        items_article.append(items_trans)\n",
    "        items_trans = []\n",
    "        items_trans.append(join_trans['article_id'][i+1])"
   ]
  },
  {
   "cell_type": "markdown",
   "metadata": {},
   "source": [
    "##### Level TYPE-  Product_type_name"
   ]
  },
  {
   "cell_type": "code",
   "execution_count": 16,
   "metadata": {},
   "outputs": [],
   "source": [
    "items_type = []\n",
    "items_trans = []\n",
    "items_trans.append(join_trans['product_type_name'][0])\n",
    "for i in range(len(join_trans)-1):\n",
    "    if (trans_3_months['t_dat'][i] == join_trans['t_dat'][i+1]) and (join_trans['customer_id'][i] == join_trans['customer_id'][i+1]):\n",
    "        items_trans.append(join_trans['product_type_name'][i+1])\n",
    "    else:\n",
    "        items_type.append(items_trans)\n",
    "        items_trans = []\n",
    "        items_trans.append(join_trans['product_type_name'][i+1])"
   ]
  },
  {
   "cell_type": "markdown",
   "metadata": {},
   "source": [
    "##### Level Category-  index_group_name"
   ]
  },
  {
   "cell_type": "code",
   "execution_count": 9,
   "metadata": {},
   "outputs": [],
   "source": [
    "items_category = []\n",
    "items_trans = []\n",
    "items_trans.append(join_trans['index_group_name'][0])\n",
    "for i in range(len(join_trans)-1):\n",
    "    if (trans_3_months['t_dat'][i] == join_trans['t_dat'][i+1]) and (join_trans['customer_id'][i] == join_trans['customer_id'][i+1]):\n",
    "        items_trans.append(join_trans['index_group_name'][i+1])\n",
    "    else:\n",
    "        items_category.append(items_trans)\n",
    "        items_trans = []\n",
    "        items_trans.append(join_trans['index_group_name'][i+1])"
   ]
  },
  {
   "cell_type": "code",
   "execution_count": 17,
   "metadata": {},
   "outputs": [
    {
     "name": "stdout",
     "output_type": "stream",
     "text": [
      "[[663713001, 541518023], [505221004, 685687003, 685687004, 685687001, 505221001], [688873012, 501323011, 598859003, 688873020, 688873011], [531310002, 529841001], [501820043, 501820043, 674681001, 671505001, 671505001, 631848002, 631848002, 631848002, 631848002, 680187001, 676827002, 676827002, 685687002, 685687002, 680912006, 680912006, 692454002, 692454002, 640639001, 640639001, 664421002, 664421002, 680912009, 680912009, 553139001, 553139001, 377277001, 377277001, 700819006, 700819006], [397068015], [652075001, 670295001], [631744002, 562252035], [649356002, 579941002, 629760002, 625229004], [688545001]]\n",
      "[['Underwear body', 'Bra'], ['Sweater', 'Sweater', 'Sweater', 'Sweater', 'Sweater'], ['Blouse', 'Trousers', 'Trousers', 'Blouse', 'Blouse'], ['Cardigan', 'Sweater'], ['Sweater', 'Sweater', 'Vest top', 'Blouse', 'Blouse', 'Skirt', 'Skirt', 'Skirt', 'Skirt', 'Vest top', 'T-shirt', 'T-shirt', 'Sweater', 'Sweater', 'T-shirt', 'T-shirt', 'Top', 'Top', 'Vest top', 'Vest top', 'Vest top', 'Vest top', 'T-shirt', 'T-shirt', 'Belt', 'Belt', 'Vest top', 'Vest top', 'T-shirt', 'T-shirt'], ['Trousers'], ['T-shirt', 'Vest top'], ['Socks', 'Trousers'], ['Sweater', 'Trousers', 'Trousers', 'Trousers'], ['Boots']]\n",
      "[['Ladieswear', 'Ladieswear'], ['Divided', 'Ladieswear', 'Ladieswear', 'Ladieswear', 'Divided'], ['Ladieswear', 'Ladieswear', 'Ladieswear', 'Ladieswear', 'Ladieswear'], ['Divided', 'Divided'], ['Divided', 'Divided', 'Divided', 'Ladieswear', 'Ladieswear', 'Divided', 'Divided', 'Divided', 'Divided', 'Divided', 'Ladieswear', 'Ladieswear', 'Ladieswear', 'Ladieswear', 'Divided', 'Divided', 'Ladieswear', 'Ladieswear', 'Divided', 'Divided', 'Divided', 'Divided', 'Divided', 'Divided', 'Ladieswear', 'Ladieswear', 'Divided', 'Divided', 'Ladieswear', 'Ladieswear'], ['Menswear'], ['Divided', 'Divided'], ['Ladieswear', 'Ladieswear'], ['Baby/Children', 'Baby/Children', 'Baby/Children', 'Baby/Children'], ['Ladieswear']]\n"
     ]
    }
   ],
   "source": [
    "print(items_article[:10])\n",
    "print(items_type[:10])\n",
    "print(items_category[:10])"
   ]
  },
  {
   "cell_type": "markdown",
   "metadata": {},
   "source": [
    "## Rule Mining\n"
   ]
  },
  {
   "cell_type": "code",
   "execution_count": 18,
   "metadata": {},
   "outputs": [
    {
     "name": "stdout",
     "output_type": "stream",
     "text": [
      "Collecting apyori\n",
      "  Downloading apyori-1.1.2.tar.gz (8.6 kB)\n",
      "Building wheels for collected packages: apyori\n",
      "  Building wheel for apyori (setup.py): started\n",
      "  Building wheel for apyori (setup.py): finished with status 'done'\n",
      "  Created wheel for apyori: filename=apyori-1.1.2-py3-none-any.whl size=5974 sha256=8aa5935a02f9c5b4633740bf81981ca2b5dd58a9e6d2975a34db0fa80a5bc092\n",
      "  Stored in directory: c:\\users\\timwy\\appdata\\local\\pip\\cache\\wheels\\32\\2a\\54\\10c595515f385f3726642b10c60bf788029e8f3a1323e3913a\n",
      "Successfully built apyori\n",
      "Installing collected packages: apyori\n",
      "Successfully installed apyori-1.1.2\n"
     ]
    }
   ],
   "source": [
    "!pip install apyori"
   ]
  },
  {
   "cell_type": "markdown",
   "metadata": {},
   "source": [
    "## Apply Apriori"
   ]
  },
  {
   "cell_type": "markdown",
   "metadata": {},
   "source": [
    "### Article Level"
   ]
  },
  {
   "cell_type": "code",
   "execution_count": 27,
   "metadata": {},
   "outputs": [],
   "source": [
    "#### Level ARTICLE ID\n",
    "from apyori import apriori\n",
    "# items_article\n",
    "## items_type\n",
    "### items_category\n",
    "association_rules_article = apriori(items_article, min_support=0.005, min_confidence=0.2, min_lift=1.1, min_length=2)\n",
    "association_results_article = list(association_rules_article)"
   ]
  },
  {
   "cell_type": "code",
   "execution_count": null,
   "metadata": {},
   "outputs": [],
   "source": [
    "print(len(association_results))\n",
    "print(association_results[0])"
   ]
  },
  {
   "cell_type": "markdown",
   "metadata": {},
   "source": []
  },
  {
   "cell_type": "code",
   "execution_count": 28,
   "metadata": {},
   "outputs": [],
   "source": [
    "from apyori import apriori\n",
    "# items_article\n",
    "## items_type\n",
    "### items_category\n",
    "association_rules_type = apriori(items_type, min_support=0.005, min_confidence=0.2, min_lift=1.1, min_length=2)\n",
    "association_results_type = list(association_rules_type)"
   ]
  },
  {
   "cell_type": "code",
   "execution_count": 29,
   "metadata": {},
   "outputs": [],
   "source": [
    "from apyori import apriori\n",
    "# items_article\n",
    "## items_type\n",
    "### items_category\n",
    "association_rules_category = apriori(items_category, min_support=0.005, min_confidence=0.2, min_lift=1.1, min_length=2)\n",
    "association_results_category = list(association_rules_category)"
   ]
  },
  {
   "cell_type": "code",
   "execution_count": 25,
   "metadata": {},
   "outputs": [
    {
     "name": "stdout",
     "output_type": "stream",
     "text": [
      "57\n",
      "RelationRecord(items=frozenset({'Swimwear bottom', 'Bikini top'}), support=0.009791988468227064, ordered_statistics=[OrderedStatistic(items_base=frozenset({'Bikini top'}), items_add=frozenset({'Swimwear bottom'}), confidence=0.7331915131836757, lift=53.276458906745056), OrderedStatistic(items_base=frozenset({'Swimwear bottom'}), items_add=frozenset({'Bikini top'}), confidence=0.7115227902428424, lift=53.27645890674506)])\n"
     ]
    }
   ],
   "source": [
    "print(len(association_results))\n",
    "print(association_results[0])"
   ]
  },
  {
   "cell_type": "markdown",
   "metadata": {},
   "source": [
    "##### Printing Rules"
   ]
  },
  {
   "cell_type": "code",
   "execution_count": 26,
   "metadata": {},
   "outputs": [
    {
     "name": "stdout",
     "output_type": "stream",
     "text": [
      "Rule: Swimwear bottom -> Bikini top\n",
      "Support: 0.009791988468227064\n",
      "Confidence: 0.7331915131836757\n",
      "Lift: 53.276458906745056\n",
      "=====================================\n",
      "Rule: Blazer -> Trousers\n",
      "Support: 0.013672298474342853\n",
      "Confidence: 0.3632409025901796\n",
      "Lift: 1.333911819413938\n",
      "=====================================\n",
      "Rule: Blouse -> Trousers\n",
      "Support: 0.034603542969760495\n",
      "Confidence: 0.3238770354716136\n",
      "Lift: 1.1893578134281748\n",
      "=====================================\n",
      "Rule: Underwear bottom -> Bra\n",
      "Support: 0.026463863771960385\n",
      "Confidence: 0.36042237315059006\n",
      "Lift: 5.87714542372598\n",
      "=====================================\n",
      "Rule: Cardigan -> Sweater\n",
      "Support: 0.01901277137871377\n",
      "Confidence: 0.45379110976284376\n",
      "Lift: 1.3611524954693366\n",
      "=====================================\n",
      "Rule: Cardigan -> Trousers\n",
      "Support: 0.013309687616353226\n",
      "Confidence: 0.3176716215492782\n",
      "Lift: 1.1665699750643386\n",
      "=====================================\n",
      "Rule: Skirt -> Dress\n",
      "Support: 0.013693232709443283\n",
      "Confidence: 0.2310982688134053\n",
      "Lift: 1.6985049081499013\n",
      "=====================================\n",
      "Rule: Dress -> Underwear Tights\n",
      "Support: 0.0054600971049448156\n",
      "Confidence: 0.20387482203176904\n",
      "Lift: 1.4984205102321415\n",
      "=====================================\n",
      "Rule: Hoodie -> Sweater\n",
      "Support: 0.02575658568606722\n",
      "Confidence: 0.43693322341302554\n",
      "Lift: 1.3105870401756323\n",
      "=====================================\n",
      "Rule: Hoodie -> Trousers\n",
      "Support: 0.019095013016608323\n",
      "Confidence: 0.3239266916101211\n",
      "Lift: 1.189540163239524\n",
      "=====================================\n",
      "Rule: Leggings/Tights -> Underwear Tights\n",
      "Support: 0.006313914836541006\n",
      "Confidence: 0.2357555623796097\n",
      "Lift: 3.719239131725703\n",
      "=====================================\n",
      "Rule: Sweater -> Shirt\n",
      "Support: 0.024724826956117357\n",
      "Confidence: 0.36833253511243774\n",
      "Lift: 1.1048183592509255\n",
      "=====================================\n",
      "Rule: Shirt -> Trousers\n",
      "Support: 0.022911025014915643\n",
      "Confidence: 0.3413118296336723\n",
      "Lift: 1.2533827562030195\n",
      "=====================================\n",
      "Rule: Shorts -> Trousers\n",
      "Support: 0.005137111763395294\n",
      "Confidence: 0.3577341594210444\n",
      "Lift: 1.313689675521531\n",
      "=====================================\n",
      "Rule: Skirt -> Sweater\n",
      "Support: 0.023181674768714085\n",
      "Confidence: 0.3912330288194619\n",
      "Lift: 1.1735086960296388\n",
      "=====================================\n",
      "Rule: T-shirt -> Sweater\n",
      "Support: 0.04104007261188975\n",
      "Confidence: 0.38761978066985375\n",
      "Lift: 1.1626707099391678\n",
      "=====================================\n",
      "Rule: Top -> Sweater\n",
      "Support: 0.03865207450793333\n",
      "Confidence: 0.4064563809044594\n",
      "Lift: 1.219171343961926\n",
      "=====================================\n",
      "Rule: T-shirt -> Top\n",
      "Support: 0.019765656191075735\n",
      "Confidence: 0.20785112271212025\n",
      "Lift: 1.9631350889548311\n",
      "=====================================\n",
      "Rule: T-shirt -> Trousers\n",
      "Support: 0.03443233083268911\n",
      "Confidence: 0.32521025612055393\n",
      "Lift: 1.1942537344789896\n",
      "=====================================\n",
      "Rule: T-shirt -> Vest top\n",
      "Support: 0.013094364055320211\n",
      "Confidence: 0.2334390744541892\n",
      "Lift: 2.2048109830461615\n",
      "=====================================\n",
      "Rule: Top -> Trousers\n",
      "Support: 0.031227149908562252\n",
      "Confidence: 0.32837757091640984\n",
      "Lift: 1.2058849098556337\n",
      "=====================================\n",
      "Rule: Top -> Vest top\n",
      "Support: 0.011373270869563266\n",
      "Confidence: 0.20275637778903313\n",
      "Lift: 2.132139725243279\n",
      "=====================================\n",
      "Rule: Blouse -> Dress\n",
      "Support: 0.008264536957149116\n",
      "Confidence: 0.43102238165795836\n",
      "Lift: 1.2928573913743617\n",
      "=====================================\n",
      "Rule: Blouse -> Dress\n",
      "Support: 0.007956504640671332\n",
      "Confidence: 0.41495749824534045\n",
      "Lift: 1.5238281468769335\n",
      "=====================================\n",
      "Rule: Sweater -> Blouse\n",
      "Support: 0.005901958995814648\n",
      "Confidence: 0.44593831205513507\n",
      "Lift: 1.3375979238474958\n",
      "=====================================\n",
      "Rule: Blouse -> Shirt\n",
      "Support: 0.005671682409709896\n",
      "Confidence: 0.4285391481188566\n",
      "Lift: 1.5737033761372927\n",
      "=====================================\n",
      "Rule: T-shirt -> Blouse\n",
      "Support: 0.006936708330778858\n",
      "Confidence: 0.5075492341356673\n",
      "Lift: 1.5224007076259405\n",
      "=====================================\n",
      "Rule: Blouse -> Top\n",
      "Support: 0.008695931730468733\n",
      "Confidence: 0.23046286755964177\n",
      "Lift: 2.423494838858632\n",
      "=====================================\n",
      "Rule: Blouse -> Sweater\n",
      "Support: 0.015681985043984322\n",
      "Confidence: 0.415609891416343\n",
      "Lift: 1.5262238984442813\n",
      "=====================================\n",
      "Rule: T-shirt -> Blouse\n",
      "Support: 0.0061038248342831\n",
      "Confidence: 0.44660831509846827\n",
      "Lift: 1.640057895215948\n",
      "=====================================\n",
      "Rule: Blouse -> Top\n",
      "Support: 0.007791273713628636\n",
      "Confidence: 0.4317437958321249\n",
      "Lift: 1.5854716473625443\n",
      "=====================================\n",
      "Rule: Bra -> Sweater\n",
      "Support: 0.006755029076157252\n",
      "Confidence: 0.3520495635910224\n",
      "Lift: 1.2928144119920473\n",
      "=====================================\n",
      "Rule: Underwear bottom -> Bra\n",
      "Support: 0.006506808859966415\n",
      "Confidence: 0.3391131546134663\n",
      "Lift: 5.529671499968457\n",
      "=====================================\n",
      "Rule: Cardigan -> Sweater\n",
      "Support: 0.007688845491887236\n",
      "Confidence: 0.40440424695241844\n",
      "Lift: 1.4850739577630596\n",
      "=====================================\n",
      "Rule: Skirt -> Dress\n",
      "Support: 0.006383446403124584\n",
      "Confidence: 0.4661752661752662\n",
      "Lift: 1.3982989380557966\n",
      "=====================================\n",
      "Rule: Skirt -> Dress\n",
      "Support: 0.005113934574534101\n",
      "Confidence: 0.3734643734643735\n",
      "Lift: 1.3714549720084777\n",
      "=====================================\n",
      "Rule: T-shirt -> Dress\n",
      "Support: 0.0070638090438886235\n",
      "Confidence: 0.47913180181550785\n",
      "Lift: 1.4371622397819344\n",
      "=====================================\n",
      "Rule: Dress -> Top\n",
      "Support: 0.008055194606144796\n",
      "Confidence: 0.21213254838646162\n",
      "Lift: 2.230737392154828\n",
      "=====================================\n",
      "Rule: Dress -> Sweater\n",
      "Support: 0.01520722649795667\n",
      "Confidence: 0.4004804189883636\n",
      "Lift: 1.4706646760404423\n",
      "=====================================\n",
      "Rule: T-shirt -> Dress\n",
      "Support: 0.0064955940911626125\n",
      "Confidence: 0.4405902936254374\n",
      "Lift: 1.6179582089881015\n",
      "=====================================\n",
      "Rule: Dress -> Top\n",
      "Support: 0.007208853387084474\n",
      "Confidence: 0.4230802983764809\n",
      "Lift: 1.553657108936005\n",
      "=====================================\n",
      "Rule: T-shirt -> Hoodie\n",
      "Support: 0.005650748174609465\n",
      "Confidence: 0.2193904208998549\n",
      "Lift: 2.072122718555611\n",
      "=====================================\n",
      "Rule: Hoodie -> Sweater\n",
      "Support: 0.010701132392588682\n",
      "Confidence: 0.41547169811320755\n",
      "Lift: 1.5257164179290041\n",
      "=====================================\n",
      "Rule: Sweater -> Jacket\n",
      "Support: 0.008272013469684985\n",
      "Confidence: 0.4316816230979321\n",
      "Lift: 1.585243333468394\n",
      "=====================================\n",
      "Rule: T-shirt -> Leggings/Tights\n",
      "Support: 0.005126644645845078\n",
      "Confidence: 0.23790028796447282\n",
      "Lift: 2.2469467418868154\n",
      "=====================================\n",
      "Rule: Leggings/Tights -> Sweater\n",
      "Support: 0.00865107265525352\n",
      "Confidence: 0.40145023071852337\n",
      "Lift: 1.474226068274196\n",
      "=====================================\n",
      "Rule: Sweater -> Shirt\n",
      "Support: 0.010722814278942701\n",
      "Confidence: 0.4336861203507711\n",
      "Lift: 1.592604350794577\n",
      "=====================================\n",
      "Rule: Skirt -> Sweater\n",
      "Support: 0.008562102156076685\n",
      "Confidence: 0.36934786815455073\n",
      "Lift: 1.3563381306827968\n",
      "=====================================\n",
      "Rule: Sweater -> Trousers\n",
      "Support: 0.005428695752294168\n",
      "Confidence: 0.3577552227039811\n",
      "Lift: 1.3137670251863527\n",
      "=====================================\n",
      "Rule: T-shirt -> Top\n",
      "Support: 0.009996844911709863\n",
      "Confidence: 0.2435874080011659\n",
      "Lift: 2.561509506293913\n",
      "=====================================\n",
      "Rule: T-shirt -> Sweater\n",
      "Support: 0.016994860645282845\n",
      "Confidence: 0.41410405887925383\n",
      "Lift: 1.5206941031900625\n",
      "=====================================\n",
      "Rule: T-shirt -> Sweater\n",
      "Support: 0.005639533405805661\n",
      "Confidence: 0.2914380650645236\n",
      "Lift: 2.752606213138848\n",
      "=====================================\n",
      "Rule: Top -> Sweater\n",
      "Support: 0.01580908575709409\n",
      "Confidence: 0.4090100197299702\n",
      "Lift: 1.501987512105927\n",
      "=====================================\n",
      "Rule: Top -> Sweater\n",
      "Support: 0.005362154790724938\n",
      "Confidence: 0.2771037786878912\n",
      "Lift: 2.91395999967125\n",
      "=====================================\n",
      "Rule: Underwear bottom -> Sweater\n",
      "Support: 0.005876538853192695\n",
      "Confidence: 0.36512286895526547\n",
      "Lift: 1.3408228725476206\n",
      "=====================================\n",
      "Rule: Vest top -> Sweater\n",
      "Support: 0.007682116630604955\n",
      "Confidence: 0.3969940499188625\n",
      "Lift: 1.4578618532429954\n",
      "=====================================\n",
      "Rule: T-shirt -> Top\n",
      "Support: 0.008315377242393023\n",
      "Confidence: 0.4206982637969513\n",
      "Lift: 1.5449096797306763\n",
      "=====================================\n"
     ]
    }
   ],
   "source": [
    "for rule in association_results:\n",
    "\n",
    "    # first index of the inner list\n",
    "    # Contains base item and add item\n",
    "    pair = rule[0] \n",
    "    rules = [x for x in pair]\n",
    "    if len(rules) > 1:\n",
    "        print(\"Rule: \" + rules[0] + \" -> \" + rules[1])\n",
    "\n",
    "        #second index of the inner list\n",
    "        print(\"Support: \" + str(rule[1]))\n",
    "\n",
    "        #third index of the list located at 0th\n",
    "        #of the third index of the inner list\n",
    "\n",
    "        print(\"Confidence: \" + str(rule[2][0][2]))\n",
    "        print(\"Lift: \" + str(rule[2][0][3]))\n",
    "        print(\"=====================================\")"
   ]
  }
 ],
 "metadata": {
  "interpreter": {
   "hash": "27302df34e0bf13e52c0b67329c265634996c45a8e4157bf6e5d99e169cf4be6"
  },
  "kernelspec": {
   "display_name": "Python 3.9.7 ('base')",
   "language": "python",
   "name": "python3"
  },
  "language_info": {
   "codemirror_mode": {
    "name": "ipython",
    "version": 3
   },
   "file_extension": ".py",
   "mimetype": "text/x-python",
   "name": "python",
   "nbconvert_exporter": "python",
   "pygments_lexer": "ipython3",
   "version": "3.9.7"
  },
  "orig_nbformat": 4
 },
 "nbformat": 4,
 "nbformat_minor": 2
}
